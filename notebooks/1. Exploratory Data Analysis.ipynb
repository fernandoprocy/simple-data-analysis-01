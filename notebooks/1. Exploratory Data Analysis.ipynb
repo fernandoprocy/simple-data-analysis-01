{
 "cells": [
  {
   "cell_type": "markdown",
   "metadata": {},
   "source": [
    "## Exploratory Data Analysis of a subset of data from 123i\n",
    "\n",
    "The dataset contains price estimates for units in residential buildings in different locations in Brazil. The size of the data, especially regarding the number of variables, is a limiting factor but, nevertheless, interesting information can be extracted from it by approaching the data with a reverse-engineering mindset."
   ]
  },
  {
   "cell_type": "code",
   "execution_count": 4,
   "metadata": {},
   "outputs": [],
   "source": [
    "%matplotlib inline\n",
    "import pandas as pd\n",
    "import numpy as np\n",
    "import matplotlib.pyplot as plt\n",
    "\n",
    "plt.style.use('ggplot')"
   ]
  },
  {
   "cell_type": "code",
   "execution_count": 5,
   "metadata": {},
   "outputs": [],
   "source": [
    "data = pd.read_csv(\"../data/base_123i.csv\")"
   ]
  },
  {
   "cell_type": "code",
   "execution_count": 6,
   "metadata": {
    "scrolled": true
   },
   "outputs": [
    {
     "data": {
      "text/plain": [
       "city                object\n",
       "state               object\n",
       "address             object\n",
       "tower_name          object\n",
       "building_type       object\n",
       "rooms                int64\n",
       "garages              int64\n",
       "useful_area          int64\n",
       "latitude            object\n",
       "longitude           object\n",
       "point_estimate       int64\n",
       "minimum_estimate     int64\n",
       "maximum_estimate     int64\n",
       "dtype: object"
      ]
     },
     "execution_count": 6,
     "metadata": {},
     "output_type": "execute_result"
    }
   ],
   "source": [
    "data.dtypes"
   ]
  },
  {
   "cell_type": "code",
   "execution_count": 7,
   "metadata": {},
   "outputs": [
    {
     "data": {
      "text/html": [
       "<div>\n",
       "<style scoped>\n",
       "    .dataframe tbody tr th:only-of-type {\n",
       "        vertical-align: middle;\n",
       "    }\n",
       "\n",
       "    .dataframe tbody tr th {\n",
       "        vertical-align: top;\n",
       "    }\n",
       "\n",
       "    .dataframe thead th {\n",
       "        text-align: right;\n",
       "    }\n",
       "</style>\n",
       "<table border=\"1\" class=\"dataframe\">\n",
       "  <thead>\n",
       "    <tr style=\"text-align: right;\">\n",
       "      <th></th>\n",
       "      <th>city</th>\n",
       "      <th>state</th>\n",
       "      <th>address</th>\n",
       "      <th>tower_name</th>\n",
       "      <th>building_type</th>\n",
       "      <th>rooms</th>\n",
       "      <th>garages</th>\n",
       "      <th>useful_area</th>\n",
       "      <th>latitude</th>\n",
       "      <th>longitude</th>\n",
       "      <th>point_estimate</th>\n",
       "      <th>minimum_estimate</th>\n",
       "      <th>maximum_estimate</th>\n",
       "    </tr>\n",
       "  </thead>\n",
       "  <tbody>\n",
       "    <tr>\n",
       "      <th>0</th>\n",
       "      <td>São Paulo</td>\n",
       "      <td>sp</td>\n",
       "      <td>Alameda Itu, 254</td>\n",
       "      <td>Torre única</td>\n",
       "      <td>Apartamento</td>\n",
       "      <td>3</td>\n",
       "      <td>1</td>\n",
       "      <td>177</td>\n",
       "      <td>-23.56619840</td>\n",
       "      <td>-46.65689950</td>\n",
       "      <td>2111490</td>\n",
       "      <td>1794760</td>\n",
       "      <td>2428210</td>\n",
       "    </tr>\n",
       "    <tr>\n",
       "      <th>1</th>\n",
       "      <td>São Paulo</td>\n",
       "      <td>sp</td>\n",
       "      <td>Alameda Santos, 1398</td>\n",
       "      <td>Torre única</td>\n",
       "      <td>Apartamento</td>\n",
       "      <td>2</td>\n",
       "      <td>1</td>\n",
       "      <td>65</td>\n",
       "      <td>-23.56387020</td>\n",
       "      <td>-46.65560060</td>\n",
       "      <td>608870</td>\n",
       "      <td>517539</td>\n",
       "      <td>700200</td>\n",
       "    </tr>\n",
       "    <tr>\n",
       "      <th>2</th>\n",
       "      <td>São Paulo</td>\n",
       "      <td>sp</td>\n",
       "      <td>Avenida Paulista, 1195</td>\n",
       "      <td>Torre única</td>\n",
       "      <td>Apartamento</td>\n",
       "      <td>3</td>\n",
       "      <td>1</td>\n",
       "      <td>170</td>\n",
       "      <td>-23.56406910</td>\n",
       "      <td>-46.65356350</td>\n",
       "      <td>2102470</td>\n",
       "      <td>1787100</td>\n",
       "      <td>2417840</td>\n",
       "    </tr>\n",
       "    <tr>\n",
       "      <th>3</th>\n",
       "      <td>São Paulo</td>\n",
       "      <td>sp</td>\n",
       "      <td>Avenida Paulista, 1195</td>\n",
       "      <td>Torre única</td>\n",
       "      <td>Apartamento</td>\n",
       "      <td>4</td>\n",
       "      <td>3</td>\n",
       "      <td>223</td>\n",
       "      <td>-23.56406910</td>\n",
       "      <td>-46.65356350</td>\n",
       "      <td>2757950</td>\n",
       "      <td>2344260</td>\n",
       "      <td>3171640</td>\n",
       "    </tr>\n",
       "    <tr>\n",
       "      <th>4</th>\n",
       "      <td>São Paulo</td>\n",
       "      <td>sp</td>\n",
       "      <td>Alameda Santos, 1126</td>\n",
       "      <td>Torre única</td>\n",
       "      <td>Apartamento</td>\n",
       "      <td>3</td>\n",
       "      <td>1</td>\n",
       "      <td>100</td>\n",
       "      <td>-23.56533980</td>\n",
       "      <td>-46.65376750</td>\n",
       "      <td>1125720</td>\n",
       "      <td>956862</td>\n",
       "      <td>1294580</td>\n",
       "    </tr>\n",
       "  </tbody>\n",
       "</table>\n",
       "</div>"
      ],
      "text/plain": [
       "        city state                 address   tower_name building_type  rooms  \\\n",
       "0  São Paulo    sp        Alameda Itu, 254  Torre única   Apartamento      3   \n",
       "1  São Paulo    sp    Alameda Santos, 1398  Torre única   Apartamento      2   \n",
       "2  São Paulo    sp  Avenida Paulista, 1195  Torre única   Apartamento      3   \n",
       "3  São Paulo    sp  Avenida Paulista, 1195  Torre única   Apartamento      4   \n",
       "4  São Paulo    sp    Alameda Santos, 1126  Torre única   Apartamento      3   \n",
       "\n",
       "   garages  useful_area      latitude     longitude  point_estimate  \\\n",
       "0        1          177  -23.56619840  -46.65689950         2111490   \n",
       "1        1           65  -23.56387020  -46.65560060          608870   \n",
       "2        1          170  -23.56406910  -46.65356350         2102470   \n",
       "3        3          223  -23.56406910  -46.65356350         2757950   \n",
       "4        1          100  -23.56533980  -46.65376750         1125720   \n",
       "\n",
       "   minimum_estimate  maximum_estimate  \n",
       "0           1794760           2428210  \n",
       "1            517539            700200  \n",
       "2           1787100           2417840  \n",
       "3           2344260           3171640  \n",
       "4            956862           1294580  "
      ]
     },
     "execution_count": 7,
     "metadata": {},
     "output_type": "execute_result"
    }
   ],
   "source": [
    "data.head()"
   ]
  },
  {
   "cell_type": "code",
   "execution_count": 8,
   "metadata": {},
   "outputs": [
    {
     "data": {
      "text/plain": [
       "(103953, 13)"
      ]
     },
     "execution_count": 8,
     "metadata": {},
     "output_type": "execute_result"
    }
   ],
   "source": [
    "data.shape"
   ]
  },
  {
   "cell_type": "markdown",
   "metadata": {},
   "source": [
    "The general formulaic approach would suggest starting by getting some summarized statistics, but we should already start by asking questions and applying some critical thinking. \n",
    "\n",
    "The first questions and observations that arise just by looking at the variables are the following:\n",
    " - 1. The first entries (head above) are for São Paulo city, specifically a small region bordering Paulista Avenue. What other places do we have data from?\n",
    " - 2. The dataset is quite small. Does it have enough data for every region available?\n",
    " - 3. The precision of the latitude and longitude seems exaggerated (~1mm)\n",
    " - 4. There are maximum and minimum estimates that are worth investigating (error range)"
   ]
  },
  {
   "cell_type": "markdown",
   "metadata": {},
   "source": [
    "### 1. What other locations do we have data from?"
   ]
  },
  {
   "cell_type": "code",
   "execution_count": 9,
   "metadata": {},
   "outputs": [
    {
     "data": {
      "text/plain": [
       "São Paulo                  29006\n",
       "Rio de Janeiro             16445\n",
       "Belo Horizonte              8794\n",
       "Porto Alegre                6921\n",
       "Curitiba                    4813\n",
       "Salvador                    3758\n",
       "Santos                      3093\n",
       "Recife                      2693\n",
       "Fortaleza                   2477\n",
       "Brasilia                    1979\n",
       "Vitoria                     1966\n",
       "Campinas                    1837\n",
       "Florianopolis               1599\n",
       "Goiania                     1532\n",
       "Guaruja                     1521\n",
       "Joao Pessoa                 1497\n",
       "Niteroi                     1437\n",
       "São Bernardo do Campo       1350\n",
       "Santo André                 1255\n",
       "Maceio                      1018\n",
       "Belém                       1016\n",
       "Vila Velha                   911\n",
       "Natal                        887\n",
       "São Caetano do Sul           883\n",
       "Ribeirao Preto               684\n",
       "Osasco                       596\n",
       "Guarulhos                    549\n",
       "Manaus                       481\n",
       "Sao Luis                     444\n",
       "Cuiaba                       324\n",
       "Riviera de Sao Lourenco      295\n",
       "Alphaville e Tamboré         266\n",
       "Teresina                     259\n",
       "Campo Grande                 248\n",
       "Sao Bernardo do Campo        227\n",
       "São José dos Campos          218\n",
       "Aracajú                      213\n",
       "Palmas                       132\n",
       "Porto Velho                   89\n",
       "Belém                         71\n",
       "Campos do Jordão              64\n",
       "Rio Branco                    27\n",
       "Macapá                        26\n",
       "Santo Andre                   21\n",
       "São Paulo                      8\n",
       "São Luis                       7\n",
       "Ribeirão Preto                 5\n",
       "Boa Vista                      4\n",
       "João Pessoa                    2\n",
       "Goiânia                        2\n",
       "Cuiabá                         1\n",
       "Florianópolis                  1\n",
       "Maceió                         1\n",
       "Name: city, dtype: int64"
      ]
     },
     "execution_count": 9,
     "metadata": {},
     "output_type": "execute_result"
    }
   ],
   "source": [
    "data.city.value_counts()"
   ]
  },
  {
   "cell_type": "markdown",
   "metadata": {},
   "source": [
    "Some issues are already visible. There are entries with correct grammar (accented) and other entries without accent, although they refer to the same location (e.g. São Luis / Sao Luis). Also, there seems to be an encoding problem for 8 entries for `São Paulo`."
   ]
  },
  {
   "cell_type": "markdown",
   "metadata": {},
   "source": [
    "I ran over the raw data quickly and noticed a lot of entries that have inconsistent data. It's worth taking a look at it now."
   ]
  },
  {
   "cell_type": "code",
   "execution_count": 10,
   "metadata": {},
   "outputs": [
    {
     "data": {
      "text/plain": [
       "-1         82991\n",
       " 371633       15\n",
       " 466729       13\n",
       " 550026       13\n",
       " 629359       12\n",
       "Name: point_estimate, dtype: int64"
      ]
     },
     "execution_count": 10,
     "metadata": {},
     "output_type": "execute_result"
    }
   ],
   "source": [
    "data.point_estimate.value_counts()[:5]"
   ]
  },
  {
   "cell_type": "markdown",
   "metadata": {},
   "source": [
    "The null value seems to be `-1` for every variable. Since this field represents the label we unfortunately can't afford using those entries."
   ]
  },
  {
   "cell_type": "code",
   "execution_count": 11,
   "metadata": {},
   "outputs": [],
   "source": [
    "data = data[data.point_estimate != -1]"
   ]
  },
  {
   "cell_type": "code",
   "execution_count": 12,
   "metadata": {},
   "outputs": [
    {
     "data": {
      "text/plain": [
       "(20962, 13)"
      ]
     },
     "execution_count": 12,
     "metadata": {},
     "output_type": "execute_result"
    }
   ],
   "source": [
    "data.shape"
   ]
  },
  {
   "cell_type": "markdown",
   "metadata": {},
   "source": [
    "The data shrank 80% from the original data that was already very small. We should investigate if we still have a good amount of data available even for a few locations."
   ]
  },
  {
   "cell_type": "code",
   "execution_count": 13,
   "metadata": {},
   "outputs": [
    {
     "data": {
      "text/plain": [
       "São Paulo                  20588\n",
       "Santos                       159\n",
       "Riviera de Sao Lourenco       85\n",
       "São Bernardo do Campo         38\n",
       "Sao Bernardo do Campo         37\n",
       "Florianopolis                 30\n",
       "Campinas                      22\n",
       "Rio de Janeiro                 2\n",
       "Cuiaba                         1\n",
       "Name: city, dtype: int64"
      ]
     },
     "execution_count": 13,
     "metadata": {},
     "output_type": "execute_result"
    }
   ],
   "source": [
    "data.city.value_counts()"
   ]
  },
  {
   "cell_type": "markdown",
   "metadata": {},
   "source": [
    "It's evident that we don't have enough data to work with locations other than São Paulo, at least not sufficient for machine learning usage. For a machine learning model there is no hard rule, but generally for convergence of a few models (by convergence I'm also considering the generalization aspect) it would be nice to have a larger sample size. Although the sample sizes for `Santos` and `Riviera de São Lourenço` aren't that small (compared to the number of variables/features), we will disregard them with a recommendation for using the data with caution and maybe prefer heuristics in this case.\n",
    "\n",
    "Other important thing to notice is that if we had decided to keep those locations, the relationship between features and among features would be heavily influenced by `São Paulo`'s, which may not hold true for other locations.\n",
    "\n",
    "That responds our question number `2`."
   ]
  },
  {
   "cell_type": "code",
   "execution_count": 14,
   "metadata": {},
   "outputs": [],
   "source": [
    "data = data[data.city == 'São Paulo']"
   ]
  },
  {
   "cell_type": "code",
   "execution_count": 15,
   "metadata": {},
   "outputs": [
    {
     "data": {
      "text/html": [
       "<div>\n",
       "<style scoped>\n",
       "    .dataframe tbody tr th:only-of-type {\n",
       "        vertical-align: middle;\n",
       "    }\n",
       "\n",
       "    .dataframe tbody tr th {\n",
       "        vertical-align: top;\n",
       "    }\n",
       "\n",
       "    .dataframe thead th {\n",
       "        text-align: right;\n",
       "    }\n",
       "</style>\n",
       "<table border=\"1\" class=\"dataframe\">\n",
       "  <thead>\n",
       "    <tr style=\"text-align: right;\">\n",
       "      <th></th>\n",
       "      <th>city</th>\n",
       "      <th>state</th>\n",
       "      <th>address</th>\n",
       "      <th>tower_name</th>\n",
       "      <th>building_type</th>\n",
       "      <th>rooms</th>\n",
       "      <th>garages</th>\n",
       "      <th>useful_area</th>\n",
       "      <th>latitude</th>\n",
       "      <th>longitude</th>\n",
       "      <th>point_estimate</th>\n",
       "      <th>minimum_estimate</th>\n",
       "      <th>maximum_estimate</th>\n",
       "    </tr>\n",
       "  </thead>\n",
       "  <tbody>\n",
       "    <tr>\n",
       "      <th>0</th>\n",
       "      <td>São Paulo</td>\n",
       "      <td>sp</td>\n",
       "      <td>Alameda Itu, 254</td>\n",
       "      <td>Torre única</td>\n",
       "      <td>Apartamento</td>\n",
       "      <td>3</td>\n",
       "      <td>1</td>\n",
       "      <td>177</td>\n",
       "      <td>-23.56619840</td>\n",
       "      <td>-46.65689950</td>\n",
       "      <td>2111490</td>\n",
       "      <td>1794760</td>\n",
       "      <td>2428210</td>\n",
       "    </tr>\n",
       "    <tr>\n",
       "      <th>1</th>\n",
       "      <td>São Paulo</td>\n",
       "      <td>sp</td>\n",
       "      <td>Alameda Santos, 1398</td>\n",
       "      <td>Torre única</td>\n",
       "      <td>Apartamento</td>\n",
       "      <td>2</td>\n",
       "      <td>1</td>\n",
       "      <td>65</td>\n",
       "      <td>-23.56387020</td>\n",
       "      <td>-46.65560060</td>\n",
       "      <td>608870</td>\n",
       "      <td>517539</td>\n",
       "      <td>700200</td>\n",
       "    </tr>\n",
       "    <tr>\n",
       "      <th>2</th>\n",
       "      <td>São Paulo</td>\n",
       "      <td>sp</td>\n",
       "      <td>Avenida Paulista, 1195</td>\n",
       "      <td>Torre única</td>\n",
       "      <td>Apartamento</td>\n",
       "      <td>3</td>\n",
       "      <td>1</td>\n",
       "      <td>170</td>\n",
       "      <td>-23.56406910</td>\n",
       "      <td>-46.65356350</td>\n",
       "      <td>2102470</td>\n",
       "      <td>1787100</td>\n",
       "      <td>2417840</td>\n",
       "    </tr>\n",
       "    <tr>\n",
       "      <th>3</th>\n",
       "      <td>São Paulo</td>\n",
       "      <td>sp</td>\n",
       "      <td>Avenida Paulista, 1195</td>\n",
       "      <td>Torre única</td>\n",
       "      <td>Apartamento</td>\n",
       "      <td>4</td>\n",
       "      <td>3</td>\n",
       "      <td>223</td>\n",
       "      <td>-23.56406910</td>\n",
       "      <td>-46.65356350</td>\n",
       "      <td>2757950</td>\n",
       "      <td>2344260</td>\n",
       "      <td>3171640</td>\n",
       "    </tr>\n",
       "    <tr>\n",
       "      <th>4</th>\n",
       "      <td>São Paulo</td>\n",
       "      <td>sp</td>\n",
       "      <td>Alameda Santos, 1126</td>\n",
       "      <td>Torre única</td>\n",
       "      <td>Apartamento</td>\n",
       "      <td>3</td>\n",
       "      <td>1</td>\n",
       "      <td>100</td>\n",
       "      <td>-23.56533980</td>\n",
       "      <td>-46.65376750</td>\n",
       "      <td>1125720</td>\n",
       "      <td>956862</td>\n",
       "      <td>1294580</td>\n",
       "    </tr>\n",
       "  </tbody>\n",
       "</table>\n",
       "</div>"
      ],
      "text/plain": [
       "        city state                 address   tower_name building_type  rooms  \\\n",
       "0  São Paulo    sp        Alameda Itu, 254  Torre única   Apartamento      3   \n",
       "1  São Paulo    sp    Alameda Santos, 1398  Torre única   Apartamento      2   \n",
       "2  São Paulo    sp  Avenida Paulista, 1195  Torre única   Apartamento      3   \n",
       "3  São Paulo    sp  Avenida Paulista, 1195  Torre única   Apartamento      4   \n",
       "4  São Paulo    sp    Alameda Santos, 1126  Torre única   Apartamento      3   \n",
       "\n",
       "   garages  useful_area      latitude     longitude  point_estimate  \\\n",
       "0        1          177  -23.56619840  -46.65689950         2111490   \n",
       "1        1           65  -23.56387020  -46.65560060          608870   \n",
       "2        1          170  -23.56406910  -46.65356350         2102470   \n",
       "3        3          223  -23.56406910  -46.65356350         2757950   \n",
       "4        1          100  -23.56533980  -46.65376750         1125720   \n",
       "\n",
       "   minimum_estimate  maximum_estimate  \n",
       "0           1794760           2428210  \n",
       "1            517539            700200  \n",
       "2           1787100           2417840  \n",
       "3           2344260           3171640  \n",
       "4            956862           1294580  "
      ]
     },
     "execution_count": 15,
     "metadata": {},
     "output_type": "execute_result"
    }
   ],
   "source": [
    "data.head()"
   ]
  },
  {
   "cell_type": "markdown",
   "metadata": {},
   "source": [
    "### 4. There are maximum and minimum estimates that are worth investigating (error range)"
   ]
  },
  {
   "cell_type": "markdown",
   "metadata": {},
   "source": [
    "First immediate question: is the suggested range perfectly symmetrical?"
   ]
  },
  {
   "cell_type": "code",
   "execution_count": 16,
   "metadata": {},
   "outputs": [],
   "source": [
    "estimate_minimum_diff = (data.point_estimate - data.minimum_estimate)/data.point_estimate\n",
    "estimate_maximum_diff = (data.maximum_estimate - data.point_estimate)/data.point_estimate"
   ]
  },
  {
   "cell_type": "code",
   "execution_count": 17,
   "metadata": {},
   "outputs": [
    {
     "name": "stdout",
     "output_type": "stream",
     "text": [
      "Arrays are equal.\n"
     ]
    }
   ],
   "source": [
    "try:\n",
    "    np.testing.assert_array_almost_equal(estimate_minimum_diff, estimate_maximum_diff, decimal=0)\n",
    "    print(\"Arrays are equal.\")\n",
    "except AssertionError:\n",
    "    print(\"Not equal according to the chosen criteria.\")"
   ]
  },
  {
   "cell_type": "markdown",
   "metadata": {},
   "source": [
    "The answer is, therefore, that the range is symmetrical w.r.t. the point estimate."
   ]
  },
  {
   "cell_type": "markdown",
   "metadata": {},
   "source": [
    "We can probably find more interesting relationships by trying to reverse engineer the formula. Let's see the relationship of the point estimate with respect to the `area`, `building_type` and `address` field.\n",
    "\n",
    "The questions are:\n",
    " - I. Are the point estimates insensitive to small changes in address?\n",
    " - II. Are the estimates insensitive w.r.t. the building type?"
   ]
  },
  {
   "cell_type": "code",
   "execution_count": 18,
   "metadata": {},
   "outputs": [],
   "source": [
    "data[\"estimate_sqm\"] = data[\"point_estimate\"] / data[\"useful_area\"]"
   ]
  },
  {
   "cell_type": "markdown",
   "metadata": {},
   "source": [
    "Let's pick an address that has more than one building to check those relationships. Paulista Ave seems like a good bet."
   ]
  },
  {
   "cell_type": "code",
   "execution_count": 19,
   "metadata": {},
   "outputs": [],
   "source": [
    "paulista_data = data[data.address.str.contains(\"Avenida Paulista\")]"
   ]
  },
  {
   "cell_type": "code",
   "execution_count": 20,
   "metadata": {},
   "outputs": [
    {
     "data": {
      "text/plain": [
       "Avenida Paulista, 960     3\n",
       "Avenida Paulista, 1195    2\n",
       "Avenida Paulista, 639     2\n",
       "Avenida Paulista, 282     2\n",
       "Avenida Paulista, 347     2\n",
       "Name: address, dtype: int64"
      ]
     },
     "execution_count": 20,
     "metadata": {},
     "output_type": "execute_result"
    }
   ],
   "source": [
    "paulista_data.address.value_counts()[:5]"
   ]
  },
  {
   "cell_type": "markdown",
   "metadata": {},
   "source": [
    "Taking a sample (of size 1)"
   ]
  },
  {
   "cell_type": "code",
   "execution_count": 21,
   "metadata": {},
   "outputs": [
    {
     "data": {
      "text/html": [
       "<div>\n",
       "<style scoped>\n",
       "    .dataframe tbody tr th:only-of-type {\n",
       "        vertical-align: middle;\n",
       "    }\n",
       "\n",
       "    .dataframe tbody tr th {\n",
       "        vertical-align: top;\n",
       "    }\n",
       "\n",
       "    .dataframe thead th {\n",
       "        text-align: right;\n",
       "    }\n",
       "</style>\n",
       "<table border=\"1\" class=\"dataframe\">\n",
       "  <thead>\n",
       "    <tr style=\"text-align: right;\">\n",
       "      <th></th>\n",
       "      <th>city</th>\n",
       "      <th>state</th>\n",
       "      <th>address</th>\n",
       "      <th>tower_name</th>\n",
       "      <th>building_type</th>\n",
       "      <th>rooms</th>\n",
       "      <th>garages</th>\n",
       "      <th>useful_area</th>\n",
       "      <th>latitude</th>\n",
       "      <th>longitude</th>\n",
       "      <th>point_estimate</th>\n",
       "      <th>minimum_estimate</th>\n",
       "      <th>maximum_estimate</th>\n",
       "      <th>estimate_sqm</th>\n",
       "    </tr>\n",
       "  </thead>\n",
       "  <tbody>\n",
       "    <tr>\n",
       "      <th>938</th>\n",
       "      <td>São Paulo</td>\n",
       "      <td>sp</td>\n",
       "      <td>Avenida Paulista, 960</td>\n",
       "      <td>Torre única</td>\n",
       "      <td>Apartamento</td>\n",
       "      <td>1</td>\n",
       "      <td>-1</td>\n",
       "      <td>70</td>\n",
       "      <td>-23.56513060</td>\n",
       "      <td>-46.65164150</td>\n",
       "      <td>725064</td>\n",
       "      <td>601803</td>\n",
       "      <td>855575</td>\n",
       "      <td>10358.057143</td>\n",
       "    </tr>\n",
       "    <tr>\n",
       "      <th>939</th>\n",
       "      <td>São Paulo</td>\n",
       "      <td>sp</td>\n",
       "      <td>Avenida Paulista, 960</td>\n",
       "      <td>Torre única</td>\n",
       "      <td>Apartamento</td>\n",
       "      <td>3</td>\n",
       "      <td>1</td>\n",
       "      <td>100</td>\n",
       "      <td>-23.56513060</td>\n",
       "      <td>-46.65164150</td>\n",
       "      <td>1035810</td>\n",
       "      <td>859718</td>\n",
       "      <td>1222250</td>\n",
       "      <td>10358.100000</td>\n",
       "    </tr>\n",
       "    <tr>\n",
       "      <th>940</th>\n",
       "      <td>São Paulo</td>\n",
       "      <td>sp</td>\n",
       "      <td>Avenida Paulista, 960</td>\n",
       "      <td>Torre única</td>\n",
       "      <td>Cobertura</td>\n",
       "      <td>4</td>\n",
       "      <td>2</td>\n",
       "      <td>193</td>\n",
       "      <td>-23.56513060</td>\n",
       "      <td>-46.65164150</td>\n",
       "      <td>1999100</td>\n",
       "      <td>1659260</td>\n",
       "      <td>2358940</td>\n",
       "      <td>10358.031088</td>\n",
       "    </tr>\n",
       "  </tbody>\n",
       "</table>\n",
       "</div>"
      ],
      "text/plain": [
       "          city state                address   tower_name building_type  rooms  \\\n",
       "938  São Paulo    sp  Avenida Paulista, 960  Torre única   Apartamento      1   \n",
       "939  São Paulo    sp  Avenida Paulista, 960  Torre única   Apartamento      3   \n",
       "940  São Paulo    sp  Avenida Paulista, 960  Torre única     Cobertura      4   \n",
       "\n",
       "     garages  useful_area      latitude     longitude  point_estimate  \\\n",
       "938       -1           70  -23.56513060  -46.65164150          725064   \n",
       "939        1          100  -23.56513060  -46.65164150         1035810   \n",
       "940        2          193  -23.56513060  -46.65164150         1999100   \n",
       "\n",
       "     minimum_estimate  maximum_estimate  estimate_sqm  \n",
       "938            601803            855575  10358.057143  \n",
       "939            859718           1222250  10358.100000  \n",
       "940           1659260           2358940  10358.031088  "
      ]
     },
     "execution_count": 21,
     "metadata": {},
     "output_type": "execute_result"
    }
   ],
   "source": [
    "paulista_data[paulista_data.address == 'Avenida Paulista, 960']"
   ]
  },
  {
   "cell_type": "markdown",
   "metadata": {},
   "source": [
    "A few considerations: \n",
    " - The estimate per square meter seem to be exactly the same if we disregard the decimal places. \n",
    " - The garage number of the first entry is missing (`-1`), which indicates that the point estimate is calculated per building.\n",
    " - The building type of the third entry is `Cobertura`, but has the same estimate per sqm.\n",
    " - The latitude and longitude are exactly the same for the three entries.\n",
    " \n",
    "This characteristic seems prevalent throughout the entire dataset."
   ]
  },
  {
   "cell_type": "markdown",
   "metadata": {},
   "source": [
    "There is still one more minor question to answer from the dataset: since the predictions seems to be building-wise, what about condominiums that have more than a single tower? Let's investigate. (I already handpicked a random case so we don't waste time)"
   ]
  },
  {
   "cell_type": "code",
   "execution_count": 22,
   "metadata": {},
   "outputs": [
    {
     "data": {
      "text/html": [
       "<div>\n",
       "<style scoped>\n",
       "    .dataframe tbody tr th:only-of-type {\n",
       "        vertical-align: middle;\n",
       "    }\n",
       "\n",
       "    .dataframe tbody tr th {\n",
       "        vertical-align: top;\n",
       "    }\n",
       "\n",
       "    .dataframe thead th {\n",
       "        text-align: right;\n",
       "    }\n",
       "</style>\n",
       "<table border=\"1\" class=\"dataframe\">\n",
       "  <thead>\n",
       "    <tr style=\"text-align: right;\">\n",
       "      <th></th>\n",
       "      <th>city</th>\n",
       "      <th>state</th>\n",
       "      <th>address</th>\n",
       "      <th>tower_name</th>\n",
       "      <th>building_type</th>\n",
       "      <th>rooms</th>\n",
       "      <th>garages</th>\n",
       "      <th>useful_area</th>\n",
       "      <th>latitude</th>\n",
       "      <th>longitude</th>\n",
       "      <th>point_estimate</th>\n",
       "      <th>minimum_estimate</th>\n",
       "      <th>maximum_estimate</th>\n",
       "      <th>estimate_sqm</th>\n",
       "    </tr>\n",
       "  </thead>\n",
       "  <tbody>\n",
       "    <tr>\n",
       "      <th>877</th>\n",
       "      <td>São Paulo</td>\n",
       "      <td>sp</td>\n",
       "      <td>Rua dos Franceses, 498</td>\n",
       "      <td>DIDERO</td>\n",
       "      <td>Apartamento</td>\n",
       "      <td>2</td>\n",
       "      <td>1</td>\n",
       "      <td>70</td>\n",
       "      <td>-23.56251290</td>\n",
       "      <td>-46.64780760</td>\n",
       "      <td>620680</td>\n",
       "      <td>527578</td>\n",
       "      <td>713782</td>\n",
       "      <td>8866.857143</td>\n",
       "    </tr>\n",
       "    <tr>\n",
       "      <th>878</th>\n",
       "      <td>São Paulo</td>\n",
       "      <td>sp</td>\n",
       "      <td>Rua dos Franceses, 498</td>\n",
       "      <td>DIDERO</td>\n",
       "      <td>Apartamento</td>\n",
       "      <td>3</td>\n",
       "      <td>2</td>\n",
       "      <td>140</td>\n",
       "      <td>-23.56251290</td>\n",
       "      <td>-46.64780760</td>\n",
       "      <td>1241360</td>\n",
       "      <td>1055160</td>\n",
       "      <td>1427560</td>\n",
       "      <td>8866.857143</td>\n",
       "    </tr>\n",
       "    <tr>\n",
       "      <th>879</th>\n",
       "      <td>São Paulo</td>\n",
       "      <td>sp</td>\n",
       "      <td>Rua dos Franceses, 498</td>\n",
       "      <td>FLAUBERT</td>\n",
       "      <td>Apartamento</td>\n",
       "      <td>2</td>\n",
       "      <td>2</td>\n",
       "      <td>120</td>\n",
       "      <td>-23.56251290</td>\n",
       "      <td>-46.64780760</td>\n",
       "      <td>1064020</td>\n",
       "      <td>904419</td>\n",
       "      <td>1223630</td>\n",
       "      <td>8866.833333</td>\n",
       "    </tr>\n",
       "    <tr>\n",
       "      <th>880</th>\n",
       "      <td>São Paulo</td>\n",
       "      <td>sp</td>\n",
       "      <td>Rua dos Franceses, 498</td>\n",
       "      <td>LA FONTAINE</td>\n",
       "      <td>Apartamento</td>\n",
       "      <td>2</td>\n",
       "      <td>1</td>\n",
       "      <td>75</td>\n",
       "      <td>-23.56251290</td>\n",
       "      <td>-46.64780760</td>\n",
       "      <td>665014</td>\n",
       "      <td>565262</td>\n",
       "      <td>764766</td>\n",
       "      <td>8866.853333</td>\n",
       "    </tr>\n",
       "    <tr>\n",
       "      <th>881</th>\n",
       "      <td>São Paulo</td>\n",
       "      <td>sp</td>\n",
       "      <td>Rua dos Franceses, 498</td>\n",
       "      <td>LA FONTAINE</td>\n",
       "      <td>Apartamento</td>\n",
       "      <td>4</td>\n",
       "      <td>3</td>\n",
       "      <td>170</td>\n",
       "      <td>-23.56251290</td>\n",
       "      <td>-46.64780760</td>\n",
       "      <td>1507360</td>\n",
       "      <td>1281260</td>\n",
       "      <td>1733470</td>\n",
       "      <td>8866.823529</td>\n",
       "    </tr>\n",
       "    <tr>\n",
       "      <th>882</th>\n",
       "      <td>São Paulo</td>\n",
       "      <td>sp</td>\n",
       "      <td>Rua dos Franceses, 498</td>\n",
       "      <td>LA FONTAINE</td>\n",
       "      <td>Apartamento</td>\n",
       "      <td>4</td>\n",
       "      <td>2</td>\n",
       "      <td>174</td>\n",
       "      <td>-23.56251290</td>\n",
       "      <td>-46.64780760</td>\n",
       "      <td>1542830</td>\n",
       "      <td>1311410</td>\n",
       "      <td>1774260</td>\n",
       "      <td>8866.839080</td>\n",
       "    </tr>\n",
       "    <tr>\n",
       "      <th>883</th>\n",
       "      <td>São Paulo</td>\n",
       "      <td>sp</td>\n",
       "      <td>Rua dos Franceses, 498</td>\n",
       "      <td>LA FONTAINE</td>\n",
       "      <td>Apartamento</td>\n",
       "      <td>4</td>\n",
       "      <td>2</td>\n",
       "      <td>175</td>\n",
       "      <td>-23.56251290</td>\n",
       "      <td>-46.64780760</td>\n",
       "      <td>1551700</td>\n",
       "      <td>1318940</td>\n",
       "      <td>1784450</td>\n",
       "      <td>8866.857143</td>\n",
       "    </tr>\n",
       "    <tr>\n",
       "      <th>884</th>\n",
       "      <td>São Paulo</td>\n",
       "      <td>sp</td>\n",
       "      <td>Rua dos Franceses, 498</td>\n",
       "      <td>LA FONTAINE</td>\n",
       "      <td>Apartamento</td>\n",
       "      <td>4</td>\n",
       "      <td>2</td>\n",
       "      <td>178</td>\n",
       "      <td>-23.56251290</td>\n",
       "      <td>-46.64780760</td>\n",
       "      <td>1578300</td>\n",
       "      <td>1341550</td>\n",
       "      <td>1815040</td>\n",
       "      <td>8866.853933</td>\n",
       "    </tr>\n",
       "    <tr>\n",
       "      <th>885</th>\n",
       "      <td>São Paulo</td>\n",
       "      <td>sp</td>\n",
       "      <td>Rua dos Franceses, 498</td>\n",
       "      <td>LA FONTAINE</td>\n",
       "      <td>Apartamento</td>\n",
       "      <td>4</td>\n",
       "      <td>2</td>\n",
       "      <td>190</td>\n",
       "      <td>-23.56251290</td>\n",
       "      <td>-46.64780760</td>\n",
       "      <td>1684700</td>\n",
       "      <td>1432000</td>\n",
       "      <td>1937410</td>\n",
       "      <td>8866.842105</td>\n",
       "    </tr>\n",
       "    <tr>\n",
       "      <th>886</th>\n",
       "      <td>São Paulo</td>\n",
       "      <td>sp</td>\n",
       "      <td>Rua dos Franceses, 498</td>\n",
       "      <td>LAFAIETE</td>\n",
       "      <td>Apartamento</td>\n",
       "      <td>4</td>\n",
       "      <td>4</td>\n",
       "      <td>240</td>\n",
       "      <td>-23.56251290</td>\n",
       "      <td>-46.64780760</td>\n",
       "      <td>2128040</td>\n",
       "      <td>1808840</td>\n",
       "      <td>2447250</td>\n",
       "      <td>8866.833333</td>\n",
       "    </tr>\n",
       "    <tr>\n",
       "      <th>887</th>\n",
       "      <td>São Paulo</td>\n",
       "      <td>sp</td>\n",
       "      <td>Rua dos Franceses, 498</td>\n",
       "      <td>RAVEL</td>\n",
       "      <td>Apartamento</td>\n",
       "      <td>3</td>\n",
       "      <td>2</td>\n",
       "      <td>126</td>\n",
       "      <td>-23.56251290</td>\n",
       "      <td>-46.64780760</td>\n",
       "      <td>1117220</td>\n",
       "      <td>949640</td>\n",
       "      <td>1284810</td>\n",
       "      <td>8866.825397</td>\n",
       "    </tr>\n",
       "    <tr>\n",
       "      <th>888</th>\n",
       "      <td>São Paulo</td>\n",
       "      <td>sp</td>\n",
       "      <td>Rua dos Franceses, 498</td>\n",
       "      <td>RENAN</td>\n",
       "      <td>Apartamento</td>\n",
       "      <td>3</td>\n",
       "      <td>1</td>\n",
       "      <td>146</td>\n",
       "      <td>-23.56251290</td>\n",
       "      <td>-46.64780760</td>\n",
       "      <td>1294560</td>\n",
       "      <td>1100380</td>\n",
       "      <td>1488740</td>\n",
       "      <td>8866.849315</td>\n",
       "    </tr>\n",
       "    <tr>\n",
       "      <th>889</th>\n",
       "      <td>São Paulo</td>\n",
       "      <td>sp</td>\n",
       "      <td>Rua dos Franceses, 498</td>\n",
       "      <td>VERLAINE</td>\n",
       "      <td>Apartamento</td>\n",
       "      <td>2</td>\n",
       "      <td>1</td>\n",
       "      <td>115</td>\n",
       "      <td>-23.56251290</td>\n",
       "      <td>-46.64780760</td>\n",
       "      <td>1019690</td>\n",
       "      <td>866735</td>\n",
       "      <td>1172640</td>\n",
       "      <td>8866.869565</td>\n",
       "    </tr>\n",
       "  </tbody>\n",
       "</table>\n",
       "</div>"
      ],
      "text/plain": [
       "          city state                 address   tower_name building_type  \\\n",
       "877  São Paulo    sp  Rua dos Franceses, 498       DIDERO   Apartamento   \n",
       "878  São Paulo    sp  Rua dos Franceses, 498       DIDERO   Apartamento   \n",
       "879  São Paulo    sp  Rua dos Franceses, 498     FLAUBERT   Apartamento   \n",
       "880  São Paulo    sp  Rua dos Franceses, 498  LA FONTAINE   Apartamento   \n",
       "881  São Paulo    sp  Rua dos Franceses, 498  LA FONTAINE   Apartamento   \n",
       "882  São Paulo    sp  Rua dos Franceses, 498  LA FONTAINE   Apartamento   \n",
       "883  São Paulo    sp  Rua dos Franceses, 498  LA FONTAINE   Apartamento   \n",
       "884  São Paulo    sp  Rua dos Franceses, 498  LA FONTAINE   Apartamento   \n",
       "885  São Paulo    sp  Rua dos Franceses, 498  LA FONTAINE   Apartamento   \n",
       "886  São Paulo    sp  Rua dos Franceses, 498     LAFAIETE   Apartamento   \n",
       "887  São Paulo    sp  Rua dos Franceses, 498        RAVEL   Apartamento   \n",
       "888  São Paulo    sp  Rua dos Franceses, 498        RENAN   Apartamento   \n",
       "889  São Paulo    sp  Rua dos Franceses, 498     VERLAINE   Apartamento   \n",
       "\n",
       "     rooms  garages  useful_area      latitude     longitude  point_estimate  \\\n",
       "877      2        1           70  -23.56251290  -46.64780760          620680   \n",
       "878      3        2          140  -23.56251290  -46.64780760         1241360   \n",
       "879      2        2          120  -23.56251290  -46.64780760         1064020   \n",
       "880      2        1           75  -23.56251290  -46.64780760          665014   \n",
       "881      4        3          170  -23.56251290  -46.64780760         1507360   \n",
       "882      4        2          174  -23.56251290  -46.64780760         1542830   \n",
       "883      4        2          175  -23.56251290  -46.64780760         1551700   \n",
       "884      4        2          178  -23.56251290  -46.64780760         1578300   \n",
       "885      4        2          190  -23.56251290  -46.64780760         1684700   \n",
       "886      4        4          240  -23.56251290  -46.64780760         2128040   \n",
       "887      3        2          126  -23.56251290  -46.64780760         1117220   \n",
       "888      3        1          146  -23.56251290  -46.64780760         1294560   \n",
       "889      2        1          115  -23.56251290  -46.64780760         1019690   \n",
       "\n",
       "     minimum_estimate  maximum_estimate  estimate_sqm  \n",
       "877            527578            713782   8866.857143  \n",
       "878           1055160           1427560   8866.857143  \n",
       "879            904419           1223630   8866.833333  \n",
       "880            565262            764766   8866.853333  \n",
       "881           1281260           1733470   8866.823529  \n",
       "882           1311410           1774260   8866.839080  \n",
       "883           1318940           1784450   8866.857143  \n",
       "884           1341550           1815040   8866.853933  \n",
       "885           1432000           1937410   8866.842105  \n",
       "886           1808840           2447250   8866.833333  \n",
       "887            949640           1284810   8866.825397  \n",
       "888           1100380           1488740   8866.849315  \n",
       "889            866735           1172640   8866.869565  "
      ]
     },
     "execution_count": 22,
     "metadata": {},
     "output_type": "execute_result"
    }
   ],
   "source": [
    "data[data.address == 'Rua dos Franceses, 498']"
   ]
  },
  {
   "cell_type": "markdown",
   "metadata": {},
   "source": [
    "The same address, different towers and apartment profiles but same estimate per square meter. We have our answer.\n",
    "And at last, another insight we can extract for free: How sensitive is a change in address? Once again, I selected a specific case considering two neighboring buildings."
   ]
  },
  {
   "cell_type": "code",
   "execution_count": 23,
   "metadata": {},
   "outputs": [
    {
     "data": {
      "text/html": [
       "<div>\n",
       "<style scoped>\n",
       "    .dataframe tbody tr th:only-of-type {\n",
       "        vertical-align: middle;\n",
       "    }\n",
       "\n",
       "    .dataframe tbody tr th {\n",
       "        vertical-align: top;\n",
       "    }\n",
       "\n",
       "    .dataframe thead th {\n",
       "        text-align: right;\n",
       "    }\n",
       "</style>\n",
       "<table border=\"1\" class=\"dataframe\">\n",
       "  <thead>\n",
       "    <tr style=\"text-align: right;\">\n",
       "      <th></th>\n",
       "      <th>city</th>\n",
       "      <th>state</th>\n",
       "      <th>address</th>\n",
       "      <th>tower_name</th>\n",
       "      <th>building_type</th>\n",
       "      <th>rooms</th>\n",
       "      <th>garages</th>\n",
       "      <th>useful_area</th>\n",
       "      <th>latitude</th>\n",
       "      <th>longitude</th>\n",
       "      <th>point_estimate</th>\n",
       "      <th>minimum_estimate</th>\n",
       "      <th>maximum_estimate</th>\n",
       "      <th>estimate_sqm</th>\n",
       "    </tr>\n",
       "  </thead>\n",
       "  <tbody>\n",
       "    <tr>\n",
       "      <th>5645</th>\n",
       "      <td>São Paulo</td>\n",
       "      <td>sp</td>\n",
       "      <td>Rua Cristiano Viana, 670</td>\n",
       "      <td>Torre única</td>\n",
       "      <td>Apartamento</td>\n",
       "      <td>3</td>\n",
       "      <td>2</td>\n",
       "      <td>130</td>\n",
       "      <td>-23.55716740</td>\n",
       "      <td>-46.67851560</td>\n",
       "      <td>1272500</td>\n",
       "      <td>1081630</td>\n",
       "      <td>1463380</td>\n",
       "      <td>9788.461538</td>\n",
       "    </tr>\n",
       "    <tr>\n",
       "      <th>5671</th>\n",
       "      <td>São Paulo</td>\n",
       "      <td>sp</td>\n",
       "      <td>Rua Cristiano Viana, 671</td>\n",
       "      <td>Torre única</td>\n",
       "      <td>Apartamento</td>\n",
       "      <td>2</td>\n",
       "      <td>2</td>\n",
       "      <td>70</td>\n",
       "      <td>-23.55732960</td>\n",
       "      <td>-46.67863120</td>\n",
       "      <td>915234</td>\n",
       "      <td>759644</td>\n",
       "      <td>1079980</td>\n",
       "      <td>13074.771429</td>\n",
       "    </tr>\n",
       "    <tr>\n",
       "      <th>5672</th>\n",
       "      <td>São Paulo</td>\n",
       "      <td>sp</td>\n",
       "      <td>Rua Cristiano Viana, 671</td>\n",
       "      <td>Torre única</td>\n",
       "      <td>Apartamento</td>\n",
       "      <td>3</td>\n",
       "      <td>2</td>\n",
       "      <td>100</td>\n",
       "      <td>-23.55732960</td>\n",
       "      <td>-46.67863120</td>\n",
       "      <td>1307480</td>\n",
       "      <td>1085210</td>\n",
       "      <td>1542820</td>\n",
       "      <td>13074.800000</td>\n",
       "    </tr>\n",
       "  </tbody>\n",
       "</table>\n",
       "</div>"
      ],
      "text/plain": [
       "           city state                   address   tower_name building_type  \\\n",
       "5645  São Paulo    sp  Rua Cristiano Viana, 670  Torre única   Apartamento   \n",
       "5671  São Paulo    sp  Rua Cristiano Viana, 671  Torre única   Apartamento   \n",
       "5672  São Paulo    sp  Rua Cristiano Viana, 671  Torre única   Apartamento   \n",
       "\n",
       "      rooms  garages  useful_area      latitude     longitude  point_estimate  \\\n",
       "5645      3        2          130  -23.55716740  -46.67851560         1272500   \n",
       "5671      2        2           70  -23.55732960  -46.67863120          915234   \n",
       "5672      3        2          100  -23.55732960  -46.67863120         1307480   \n",
       "\n",
       "      minimum_estimate  maximum_estimate  estimate_sqm  \n",
       "5645           1081630           1463380   9788.461538  \n",
       "5671            759644           1079980  13074.771429  \n",
       "5672           1085210           1542820  13074.800000  "
      ]
     },
     "execution_count": 23,
     "metadata": {},
     "output_type": "execute_result"
    }
   ],
   "source": [
    "data[(data.address == 'Rua Cristiano Viana, 670') |(data.address == 'Rua Cristiano Viana, 671')]"
   ]
  },
  {
   "cell_type": "markdown",
   "metadata": {},
   "source": [
    "They have very distinct estimates per square meter. As there are more entries in this specific street, we can try to plot the estimate per sqm for buildings on this street just for fun and to see that the estimates aren't clearly correlated with location."
   ]
  },
  {
   "cell_type": "code",
   "execution_count": 24,
   "metadata": {},
   "outputs": [],
   "source": [
    "cristiano_viana_st = data[data.address.str.contains(\"Rua Cristiano Viana\")]"
   ]
  },
  {
   "cell_type": "code",
   "execution_count": 25,
   "metadata": {},
   "outputs": [
    {
     "data": {
      "text/plain": [
       "<matplotlib.colorbar.Colorbar at 0x201a9fa50f0>"
      ]
     },
     "execution_count": 25,
     "metadata": {},
     "output_type": "execute_result"
    },
    {
     "data": {
      "image/png": "[encoded data removed]",
      "text/plain": [
       "<Figure size 1080x720 with 2 Axes>"
      ]
     },
     "metadata": {},
     "output_type": "display_data"
    }
   ],
   "source": [
    "fig = plt.figure(figsize=(15,10))\n",
    "_ = plt.scatter(cristiano_viana_st[\"latitude\"].astype(np.float64), cristiano_viana_st[\"longitude\"].astype(np.float64), c=cristiano_viana_st[\"estimate_sqm\"], s=100)\n",
    "plt.gray()\n",
    "plt.colorbar()"
   ]
  },
  {
   "cell_type": "markdown",
   "metadata": {},
   "source": [
    "## Considerations about geographic coordinates\n",
    "\n",
    "The geographic coordinates are very important features in AVMs. The specific location can encode a lot of information, especially from intangible amenities such as crime rate, pleasant view and access to public transportation in the vicinity. Those are features that are hard to encode separately and, therefore, it's a very good thing it's encoded within the two geographic coordinates.\n",
    "\n",
    "At the same time, the granularity of both latitude and longitude fields might pose a problem if we treat them as continuous numerical features. A latitude value hardly means much without a corresponding longitude value. Because of that, we can consider them to be linked and find ways to \"group\" them together.\n",
    "\n",
    "Before doing that, there is also a consideration about precision. 8 decimal places correspond to an order of precision of `1 milimeter`, which is exaggerated considering that for residential real estate the common measure is `meter`, or 5 decimal degrees.\n",
    "\n",
    "A good way to couple together those two features is the usage of space-filling curves through algorithms like Geohash or S2 Geometry. Those algorithms provide different precision type cells which can be leveraged to fit our needs."
   ]
  },
  {
   "cell_type": "code",
   "execution_count": null,
   "metadata": {},
   "outputs": [],
   "source": []
  }
 ],
 "metadata": {
  "kernelspec": {
   "display_name": "Python 3",
   "language": "python",
   "name": "python3"
  },
  "language_info": {
   "codemirror_mode": {
    "name": "ipython",
    "version": 3
   },
   "file_extension": ".py",
   "mimetype": "text/x-python",
   "name": "python",
   "nbconvert_exporter": "python",
   "pygments_lexer": "ipython3",
   "version": "3.7.3"
  }
 },
 "nbformat": 4,
 "nbformat_minor": 2
}
